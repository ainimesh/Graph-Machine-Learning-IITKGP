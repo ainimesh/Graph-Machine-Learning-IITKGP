{
 "cells": [
  {
   "cell_type": "markdown",
   "metadata": {},
   "source": [
    "# Tutorial:2"
   ]
  },
  {
   "cell_type": "markdown",
   "metadata": {},
   "source": [
    "## Classification of Graph Data using Machine Learning Algorithm based on Graph features"
   ]
  },
  {
   "cell_type": "code",
   "execution_count": 1,
   "metadata": {},
   "outputs": [],
   "source": [
    "# importing required libraries\n",
    "\n",
    "import numpy as np\n",
    "import pandas as pd\n",
    "import networkx as nx"
   ]
  },
  {
   "cell_type": "markdown",
   "metadata": {},
   "source": [
    "## Example Graph using NetworkX:\n",
    "\n",
    "**Karate Club Graph:**\n",
    "\n",
    "Zachary's karate club is a social network of a university karate club, described in the paper \"An Information Flow Model for Conflict and Fission in Small Groups\" by Wayne W. Zachary.\n",
    "\n",
    "\n",
    "Ref: http://vlado.fmf.uni-lj.si/pub/networks/data/Ucinet/UciData.htm#zachary"
   ]
  },
  {
   "cell_type": "markdown",
   "metadata": {},
   "source": [
    "https://networkx.org/documentation/stable/auto_examples/graph/plot_karate_club.html"
   ]
  },
  {
   "cell_type": "code",
   "execution_count": 2,
   "metadata": {},
   "outputs": [],
   "source": [
    "# importing Karate club graph data\n",
    "\n",
    "kg = nx.karate_club_graph()"
   ]
  },
  {
   "cell_type": "markdown",
   "metadata": {},
   "source": [
    "Karate club data is basically devided into two classes\n",
    "- Mr. Hi\n",
    "- officer"
   ]
  },
  {
   "cell_type": "code",
   "execution_count": 3,
   "metadata": {},
   "outputs": [
    {
     "data": {
      "text/plain": [
       "{0: 'Mr. Hi',\n",
       " 1: 'Mr. Hi',\n",
       " 2: 'Mr. Hi',\n",
       " 3: 'Mr. Hi',\n",
       " 4: 'Mr. Hi',\n",
       " 5: 'Mr. Hi',\n",
       " 6: 'Mr. Hi',\n",
       " 7: 'Mr. Hi',\n",
       " 8: 'Mr. Hi',\n",
       " 9: 'Officer',\n",
       " 10: 'Mr. Hi',\n",
       " 11: 'Mr. Hi',\n",
       " 12: 'Mr. Hi',\n",
       " 13: 'Mr. Hi',\n",
       " 14: 'Officer',\n",
       " 15: 'Officer',\n",
       " 16: 'Mr. Hi',\n",
       " 17: 'Mr. Hi',\n",
       " 18: 'Officer',\n",
       " 19: 'Mr. Hi',\n",
       " 20: 'Officer',\n",
       " 21: 'Mr. Hi',\n",
       " 22: 'Officer',\n",
       " 23: 'Officer',\n",
       " 24: 'Officer',\n",
       " 25: 'Officer',\n",
       " 26: 'Officer',\n",
       " 27: 'Officer',\n",
       " 28: 'Officer',\n",
       " 29: 'Officer',\n",
       " 30: 'Officer',\n",
       " 31: 'Officer',\n",
       " 32: 'Officer',\n",
       " 33: 'Officer'}"
      ]
     },
     "execution_count": 3,
     "metadata": {},
     "output_type": "execute_result"
    }
   ],
   "source": [
    "# printing the labels or the classes to which all the data point belongs\n",
    "\n",
    "club_labels = nx.get_node_attributes(kg,'club')\n",
    "club_labels"
   ]
  },
  {
   "cell_type": "code",
   "execution_count": 4,
   "metadata": {},
   "outputs": [
    {
     "data": {
      "text/plain": [
       "DegreeView({0: 16, 1: 9, 2: 10, 3: 6, 4: 3, 5: 4, 6: 4, 7: 4, 8: 5, 9: 2, 10: 3, 11: 1, 12: 2, 13: 5, 14: 2, 15: 2, 16: 2, 17: 2, 18: 2, 19: 3, 20: 2, 21: 2, 22: 2, 23: 5, 24: 3, 25: 3, 26: 2, 27: 4, 28: 3, 29: 4, 30: 4, 31: 6, 32: 12, 33: 17})"
      ]
     },
     "execution_count": 4,
     "metadata": {},
     "output_type": "execute_result"
    }
   ],
   "source": [
    "# getting the degree of every node of the graph\n",
    "\n",
    "degree = nx.degree(kg)\n",
    "degree"
   ]
  },
  {
   "cell_type": "markdown",
   "metadata": {},
   "source": [
    "## Getting different features of the graph\n",
    "\n",
    "These are some of the features we are considering for this graph to do the classification task\n",
    "- clusterring coefficient\n",
    "- degree centrality \n",
    "- closeness centrality\n",
    "- betweenness centrality\n",
    "- eigenvector centrality\n",
    "- pagerank\n",
    "- hubs\n",
    "- authorities"
   ]
  },
  {
   "cell_type": "code",
   "execution_count": 5,
   "metadata": {},
   "outputs": [],
   "source": [
    "# clusterring coefficient\n",
    "cl_coef = nx.clustering(kg) \n",
    "\n",
    "# degree centrality\n",
    "dc = nx.degree_centrality(kg)\n",
    "\n",
    "# closeness centrality\n",
    "cc = nx.closeness_centrality(kg)\n",
    "\n",
    "# betweenness centrality\n",
    "bc = nx.betweenness_centrality(kg)\n",
    "\n",
    "# eigenvector centrality\n",
    "eigc = nx.eigenvector_centrality(kg)\n",
    "\n",
    "# pagerank\n",
    "pagerank = nx.pagerank(kg)\n",
    "\n",
    "\n",
    "# hubs and authorities\n",
    "hub,auth = nx.hits(kg)\n"
   ]
  },
  {
   "cell_type": "code",
   "execution_count": 25,
   "metadata": {},
   "outputs": [
    {
     "name": "stdout",
     "output_type": "stream",
     "text": [
      "{0: 0.09700181758983709, 1: 0.05287839103742701, 2: 0.057078423047636745, 3: 0.03586064322306479, 4: 0.021979406974834498, 5: 0.02911334166344221, 6: 0.02911334166344221, 7: 0.024490758039509182, 8: 0.029765339186167028, 9: 0.014308950284462801, 10: 0.021979406974834498, 11: 0.009564916863537148, 12: 0.014645186487916191, 13: 0.029536314977202986, 14: 0.014535161524273825, 15: 0.014535161524273825, 16: 0.016785378110253487, 17: 0.014558859774243493, 18: 0.014535161524273825, 19: 0.019604416711937293, 20: 0.014535161524273825, 21: 0.014558859774243493, 22: 0.014535161524273825, 23: 0.03152091531163228, 24: 0.021075455001162945, 25: 0.021005628174745786, 26: 0.015043395360629753, 27: 0.025638803528350497, 28: 0.01957296050943854, 29: 0.02628726283711208, 30: 0.02458933653429248, 31: 0.03715663592267942, 32: 0.07169213006588289, 33: 0.1009179167487121}\n"
     ]
    }
   ],
   "source": [
    "print(pagerank)"
   ]
  },
  {
   "cell_type": "code",
   "execution_count": 26,
   "metadata": {},
   "outputs": [
    {
     "name": "stdout",
     "output_type": "stream",
     "text": [
      "{0: 0.07141272875773573, 1: 0.053427231205172614, 2: 0.06371906453963268, 3: 0.04242273710428976, 4: 0.01526095969815266, 5: 0.015966913494418547, 6: 0.015966913494418547, 7: 0.034343167206797434, 8: 0.0456819251308063, 9: 0.020625667757182626, 10: 0.01526095969815266, 11: 0.01061789150852051, 12: 0.01692545078543599, 13: 0.04549486406600547, 14: 0.020370345842716076, 15: 0.020370345842716076, 16: 0.004748031841562519, 17: 0.018561637031907358, 18: 0.020370345842716076, 19: 0.02971333389111539, 20: 0.020370345842716076, 21: 0.018561637031907358, 22: 0.020370345842716076, 23: 0.030156497528902444, 24: 0.011460952230139869, 25: 0.01189366439609368, 26: 0.015182734341447207, 27: 0.02681349412708363, 28: 0.0263315057833753, 29: 0.027111539646424865, 30: 0.03510623798827733, 31: 0.03837574188047834, 32: 0.06200184647463986, 33: 0.07500294214634279}\n"
     ]
    }
   ],
   "source": [
    "print(hub)"
   ]
  },
  {
   "cell_type": "code",
   "execution_count": 27,
   "metadata": {},
   "outputs": [],
   "source": [
    "# Converting the degree values of every node in list format\n",
    "\n",
    "degrees = list(dict(degree).values())\n",
    "\n",
    "\n",
    "# storing values of all features in list\n",
    "\n",
    "data = [list(x.values()) for x in (cl_coef,dc,cc,bc,eigc,pagerank,hub,auth)]\n",
    "\n",
    "data.append(degrees)"
   ]
  },
  {
   "cell_type": "code",
   "execution_count": 28,
   "metadata": {},
   "outputs": [],
   "source": [
    "data.append(list(club_labels.values()))"
   ]
  },
  {
   "cell_type": "code",
   "execution_count": 29,
   "metadata": {},
   "outputs": [
    {
     "data": {
      "text/plain": [
       "[[0.15,\n",
       "  0.3333333333333333,\n",
       "  0.24444444444444444,\n",
       "  0.6666666666666666,\n",
       "  0.6666666666666666,\n",
       "  0.5,\n",
       "  0.5,\n",
       "  1.0,\n",
       "  0.5,\n",
       "  0,\n",
       "  0.6666666666666666,\n",
       "  0,\n",
       "  1.0,\n",
       "  0.6,\n",
       "  1.0,\n",
       "  1.0,\n",
       "  1.0,\n",
       "  1.0,\n",
       "  1.0,\n",
       "  0.3333333333333333,\n",
       "  1.0,\n",
       "  1.0,\n",
       "  1.0,\n",
       "  0.4,\n",
       "  0.3333333333333333,\n",
       "  0.3333333333333333,\n",
       "  1.0,\n",
       "  0.16666666666666666,\n",
       "  0.3333333333333333,\n",
       "  0.6666666666666666,\n",
       "  0.5,\n",
       "  0.2,\n",
       "  0.19696969696969696,\n",
       "  0.11029411764705882],\n",
       " [0.48484848484848486,\n",
       "  0.2727272727272727,\n",
       "  0.30303030303030304,\n",
       "  0.18181818181818182,\n",
       "  0.09090909090909091,\n",
       "  0.12121212121212122,\n",
       "  0.12121212121212122,\n",
       "  0.12121212121212122,\n",
       "  0.15151515151515152,\n",
       "  0.06060606060606061,\n",
       "  0.09090909090909091,\n",
       "  0.030303030303030304,\n",
       "  0.06060606060606061,\n",
       "  0.15151515151515152,\n",
       "  0.06060606060606061,\n",
       "  0.06060606060606061,\n",
       "  0.06060606060606061,\n",
       "  0.06060606060606061,\n",
       "  0.06060606060606061,\n",
       "  0.09090909090909091,\n",
       "  0.06060606060606061,\n",
       "  0.06060606060606061,\n",
       "  0.06060606060606061,\n",
       "  0.15151515151515152,\n",
       "  0.09090909090909091,\n",
       "  0.09090909090909091,\n",
       "  0.06060606060606061,\n",
       "  0.12121212121212122,\n",
       "  0.09090909090909091,\n",
       "  0.12121212121212122,\n",
       "  0.12121212121212122,\n",
       "  0.18181818181818182,\n",
       "  0.36363636363636365,\n",
       "  0.5151515151515151],\n",
       " [0.5689655172413793,\n",
       "  0.4852941176470588,\n",
       "  0.559322033898305,\n",
       "  0.4647887323943662,\n",
       "  0.3793103448275862,\n",
       "  0.38372093023255816,\n",
       "  0.38372093023255816,\n",
       "  0.44,\n",
       "  0.515625,\n",
       "  0.4342105263157895,\n",
       "  0.3793103448275862,\n",
       "  0.36666666666666664,\n",
       "  0.3707865168539326,\n",
       "  0.515625,\n",
       "  0.3707865168539326,\n",
       "  0.3707865168539326,\n",
       "  0.28448275862068967,\n",
       "  0.375,\n",
       "  0.3707865168539326,\n",
       "  0.5,\n",
       "  0.3707865168539326,\n",
       "  0.375,\n",
       "  0.3707865168539326,\n",
       "  0.39285714285714285,\n",
       "  0.375,\n",
       "  0.375,\n",
       "  0.3626373626373626,\n",
       "  0.4583333333333333,\n",
       "  0.4520547945205479,\n",
       "  0.38372093023255816,\n",
       "  0.4583333333333333,\n",
       "  0.5409836065573771,\n",
       "  0.515625,\n",
       "  0.55],\n",
       " [0.43763528138528146,\n",
       "  0.053936688311688304,\n",
       "  0.14365680615680618,\n",
       "  0.011909271284271283,\n",
       "  0.0006313131313131313,\n",
       "  0.02998737373737374,\n",
       "  0.029987373737373736,\n",
       "  0.0,\n",
       "  0.05592682780182781,\n",
       "  0.0008477633477633478,\n",
       "  0.0006313131313131313,\n",
       "  0.0,\n",
       "  0.0,\n",
       "  0.04586339586339586,\n",
       "  0.0,\n",
       "  0.0,\n",
       "  0.0,\n",
       "  0.0,\n",
       "  0.0,\n",
       "  0.03247504810004811,\n",
       "  0.0,\n",
       "  0.0,\n",
       "  0.0,\n",
       "  0.017613636363636363,\n",
       "  0.0022095959595959595,\n",
       "  0.0038404882154882154,\n",
       "  0.0,\n",
       "  0.02233345358345358,\n",
       "  0.0017947330447330447,\n",
       "  0.0029220779220779218,\n",
       "  0.014411976911976909,\n",
       "  0.13827561327561325,\n",
       "  0.145247113997114,\n",
       "  0.30407497594997596],\n",
       " [0.3554834941851943,\n",
       "  0.2659538704545025,\n",
       "  0.31718938996844476,\n",
       "  0.2111740783205706,\n",
       "  0.07596645881657382,\n",
       "  0.07948057788594247,\n",
       "  0.07948057788594247,\n",
       "  0.17095511498035434,\n",
       "  0.2274050914716605,\n",
       "  0.10267519030637758,\n",
       "  0.07596645881657381,\n",
       "  0.05285416945233648,\n",
       "  0.08425192086558088,\n",
       "  0.22646969838808148,\n",
       "  0.10140627846270832,\n",
       "  0.10140627846270832,\n",
       "  0.023634794260596875,\n",
       "  0.09239675666845953,\n",
       "  0.10140627846270832,\n",
       "  0.14791134007618667,\n",
       "  0.10140627846270832,\n",
       "  0.09239675666845953,\n",
       "  0.10140627846270832,\n",
       "  0.15012328691726787,\n",
       "  0.05705373563802805,\n",
       "  0.05920820250279008,\n",
       "  0.07558192219009324,\n",
       "  0.13347932684333308,\n",
       "  0.13107925627221215,\n",
       "  0.13496528673866567,\n",
       "  0.17476027834493085,\n",
       "  0.19103626979791702,\n",
       "  0.3086510477336959,\n",
       "  0.373371213013235],\n",
       " [0.09700181758983709,\n",
       "  0.05287839103742701,\n",
       "  0.057078423047636745,\n",
       "  0.03586064322306479,\n",
       "  0.021979406974834498,\n",
       "  0.02911334166344221,\n",
       "  0.02911334166344221,\n",
       "  0.024490758039509182,\n",
       "  0.029765339186167028,\n",
       "  0.014308950284462801,\n",
       "  0.021979406974834498,\n",
       "  0.009564916863537148,\n",
       "  0.014645186487916191,\n",
       "  0.029536314977202986,\n",
       "  0.014535161524273825,\n",
       "  0.014535161524273825,\n",
       "  0.016785378110253487,\n",
       "  0.014558859774243493,\n",
       "  0.014535161524273825,\n",
       "  0.019604416711937293,\n",
       "  0.014535161524273825,\n",
       "  0.014558859774243493,\n",
       "  0.014535161524273825,\n",
       "  0.03152091531163228,\n",
       "  0.021075455001162945,\n",
       "  0.021005628174745786,\n",
       "  0.015043395360629753,\n",
       "  0.025638803528350497,\n",
       "  0.01957296050943854,\n",
       "  0.02628726283711208,\n",
       "  0.02458933653429248,\n",
       "  0.03715663592267942,\n",
       "  0.07169213006588289,\n",
       "  0.1009179167487121],\n",
       " [0.07141272875773573,\n",
       "  0.053427231205172614,\n",
       "  0.06371906453963268,\n",
       "  0.04242273710428976,\n",
       "  0.01526095969815266,\n",
       "  0.015966913494418547,\n",
       "  0.015966913494418547,\n",
       "  0.034343167206797434,\n",
       "  0.0456819251308063,\n",
       "  0.020625667757182626,\n",
       "  0.01526095969815266,\n",
       "  0.01061789150852051,\n",
       "  0.01692545078543599,\n",
       "  0.04549486406600547,\n",
       "  0.020370345842716076,\n",
       "  0.020370345842716076,\n",
       "  0.004748031841562519,\n",
       "  0.018561637031907358,\n",
       "  0.020370345842716076,\n",
       "  0.02971333389111539,\n",
       "  0.020370345842716076,\n",
       "  0.018561637031907358,\n",
       "  0.020370345842716076,\n",
       "  0.030156497528902444,\n",
       "  0.011460952230139869,\n",
       "  0.01189366439609368,\n",
       "  0.015182734341447207,\n",
       "  0.02681349412708363,\n",
       "  0.0263315057833753,\n",
       "  0.027111539646424865,\n",
       "  0.03510623798827733,\n",
       "  0.03837574188047834,\n",
       "  0.06200184647463986,\n",
       "  0.07500294214634279],\n",
       " [0.07141272880870855,\n",
       "  0.05342723122870397,\n",
       "  0.06371906455587135,\n",
       "  0.04242273710611524,\n",
       "  0.015260959692251741,\n",
       "  0.01596691348769785,\n",
       "  0.01596691348769785,\n",
       "  0.03434316719678568,\n",
       "  0.045681925113766106,\n",
       "  0.020625667747004237,\n",
       "  0.015260959692251741,\n",
       "  0.010617891499780771,\n",
       "  0.016925450777611116,\n",
       "  0.045494864044925934,\n",
       "  0.02037034582705704,\n",
       "  0.02037034582705704,\n",
       "  0.004748031844529441,\n",
       "  0.01856163702009135,\n",
       "  0.02037034582705704,\n",
       "  0.029713333868231606,\n",
       "  0.02037034582705704,\n",
       "  0.01856163702009135,\n",
       "  0.02037034582705704,\n",
       "  0.030156497522138854,\n",
       "  0.011460952243147787,\n",
       "  0.011893664411194165,\n",
       "  0.015182734336172116,\n",
       "  0.026813494122100573,\n",
       "  0.026331505783102067,\n",
       "  0.02711153964098065,\n",
       "  0.03510623797808329,\n",
       "  0.03837574185646307,\n",
       "  0.06200184653550559,\n",
       "  0.0750029422437107],\n",
       " [16,\n",
       "  9,\n",
       "  10,\n",
       "  6,\n",
       "  3,\n",
       "  4,\n",
       "  4,\n",
       "  4,\n",
       "  5,\n",
       "  2,\n",
       "  3,\n",
       "  1,\n",
       "  2,\n",
       "  5,\n",
       "  2,\n",
       "  2,\n",
       "  2,\n",
       "  2,\n",
       "  2,\n",
       "  3,\n",
       "  2,\n",
       "  2,\n",
       "  2,\n",
       "  5,\n",
       "  3,\n",
       "  3,\n",
       "  2,\n",
       "  4,\n",
       "  3,\n",
       "  4,\n",
       "  4,\n",
       "  6,\n",
       "  12,\n",
       "  17],\n",
       " ['Mr. Hi',\n",
       "  'Mr. Hi',\n",
       "  'Mr. Hi',\n",
       "  'Mr. Hi',\n",
       "  'Mr. Hi',\n",
       "  'Mr. Hi',\n",
       "  'Mr. Hi',\n",
       "  'Mr. Hi',\n",
       "  'Mr. Hi',\n",
       "  'Officer',\n",
       "  'Mr. Hi',\n",
       "  'Mr. Hi',\n",
       "  'Mr. Hi',\n",
       "  'Mr. Hi',\n",
       "  'Officer',\n",
       "  'Officer',\n",
       "  'Mr. Hi',\n",
       "  'Mr. Hi',\n",
       "  'Officer',\n",
       "  'Mr. Hi',\n",
       "  'Officer',\n",
       "  'Mr. Hi',\n",
       "  'Officer',\n",
       "  'Officer',\n",
       "  'Officer',\n",
       "  'Officer',\n",
       "  'Officer',\n",
       "  'Officer',\n",
       "  'Officer',\n",
       "  'Officer',\n",
       "  'Officer',\n",
       "  'Officer',\n",
       "  'Officer',\n",
       "  'Officer']]"
      ]
     },
     "execution_count": 29,
     "metadata": {},
     "output_type": "execute_result"
    }
   ],
   "source": [
    "data"
   ]
  },
  {
   "cell_type": "code",
   "execution_count": 30,
   "metadata": {},
   "outputs": [],
   "source": [
    "# converting data into numpy array\n",
    "\n",
    "data_arr = np.array(data)"
   ]
  },
  {
   "cell_type": "code",
   "execution_count": 32,
   "metadata": {},
   "outputs": [],
   "source": [
    "# converting data array into pandas dataframe\n",
    "\n",
    "df1 = pd.DataFrame(data_arr.T, columns=['clustering_coef','degree_centrality','closeness_centrality','betweenness_centrality','eigenvalue_centrality','pagerank','hub','authority','degrees_of_nodes','club_labels'])"
   ]
  },
  {
   "cell_type": "code",
   "execution_count": 33,
   "metadata": {},
   "outputs": [
    {
     "data": {
      "text/html": [
       "<div>\n",
       "<style scoped>\n",
       "    .dataframe tbody tr th:only-of-type {\n",
       "        vertical-align: middle;\n",
       "    }\n",
       "\n",
       "    .dataframe tbody tr th {\n",
       "        vertical-align: top;\n",
       "    }\n",
       "\n",
       "    .dataframe thead th {\n",
       "        text-align: right;\n",
       "    }\n",
       "</style>\n",
       "<table border=\"1\" class=\"dataframe\">\n",
       "  <thead>\n",
       "    <tr style=\"text-align: right;\">\n",
       "      <th></th>\n",
       "      <th>clustering_coef</th>\n",
       "      <th>degree_centrality</th>\n",
       "      <th>closeness_centrality</th>\n",
       "      <th>betweenness_centrality</th>\n",
       "      <th>eigenvalue_centrality</th>\n",
       "      <th>pagerank</th>\n",
       "      <th>hub</th>\n",
       "      <th>authority</th>\n",
       "      <th>degrees_of_nodes</th>\n",
       "      <th>club_labels</th>\n",
       "    </tr>\n",
       "  </thead>\n",
       "  <tbody>\n",
       "    <tr>\n",
       "      <th>0</th>\n",
       "      <td>0.15</td>\n",
       "      <td>0.48484848484848486</td>\n",
       "      <td>0.5689655172413793</td>\n",
       "      <td>0.43763528138528146</td>\n",
       "      <td>0.3554834941851943</td>\n",
       "      <td>0.09700181758983709</td>\n",
       "      <td>0.07141272875773573</td>\n",
       "      <td>0.07141272880870855</td>\n",
       "      <td>16</td>\n",
       "      <td>Mr. Hi</td>\n",
       "    </tr>\n",
       "    <tr>\n",
       "      <th>1</th>\n",
       "      <td>0.3333333333333333</td>\n",
       "      <td>0.2727272727272727</td>\n",
       "      <td>0.4852941176470588</td>\n",
       "      <td>0.053936688311688304</td>\n",
       "      <td>0.2659538704545025</td>\n",
       "      <td>0.05287839103742701</td>\n",
       "      <td>0.053427231205172614</td>\n",
       "      <td>0.05342723122870397</td>\n",
       "      <td>9</td>\n",
       "      <td>Mr. Hi</td>\n",
       "    </tr>\n",
       "    <tr>\n",
       "      <th>2</th>\n",
       "      <td>0.24444444444444444</td>\n",
       "      <td>0.30303030303030304</td>\n",
       "      <td>0.559322033898305</td>\n",
       "      <td>0.14365680615680618</td>\n",
       "      <td>0.31718938996844476</td>\n",
       "      <td>0.057078423047636745</td>\n",
       "      <td>0.06371906453963268</td>\n",
       "      <td>0.06371906455587135</td>\n",
       "      <td>10</td>\n",
       "      <td>Mr. Hi</td>\n",
       "    </tr>\n",
       "    <tr>\n",
       "      <th>3</th>\n",
       "      <td>0.6666666666666666</td>\n",
       "      <td>0.18181818181818182</td>\n",
       "      <td>0.4647887323943662</td>\n",
       "      <td>0.011909271284271283</td>\n",
       "      <td>0.2111740783205706</td>\n",
       "      <td>0.03586064322306479</td>\n",
       "      <td>0.04242273710428976</td>\n",
       "      <td>0.04242273710611524</td>\n",
       "      <td>6</td>\n",
       "      <td>Mr. Hi</td>\n",
       "    </tr>\n",
       "    <tr>\n",
       "      <th>4</th>\n",
       "      <td>0.6666666666666666</td>\n",
       "      <td>0.09090909090909091</td>\n",
       "      <td>0.3793103448275862</td>\n",
       "      <td>0.0006313131313131313</td>\n",
       "      <td>0.07596645881657382</td>\n",
       "      <td>0.021979406974834498</td>\n",
       "      <td>0.01526095969815266</td>\n",
       "      <td>0.015260959692251741</td>\n",
       "      <td>3</td>\n",
       "      <td>Mr. Hi</td>\n",
       "    </tr>\n",
       "  </tbody>\n",
       "</table>\n",
       "</div>"
      ],
      "text/plain": [
       "       clustering_coef    degree_centrality closeness_centrality  \\\n",
       "0                 0.15  0.48484848484848486   0.5689655172413793   \n",
       "1   0.3333333333333333   0.2727272727272727   0.4852941176470588   \n",
       "2  0.24444444444444444  0.30303030303030304    0.559322033898305   \n",
       "3   0.6666666666666666  0.18181818181818182   0.4647887323943662   \n",
       "4   0.6666666666666666  0.09090909090909091   0.3793103448275862   \n",
       "\n",
       "  betweenness_centrality eigenvalue_centrality              pagerank  \\\n",
       "0    0.43763528138528146    0.3554834941851943   0.09700181758983709   \n",
       "1   0.053936688311688304    0.2659538704545025   0.05287839103742701   \n",
       "2    0.14365680615680618   0.31718938996844476  0.057078423047636745   \n",
       "3   0.011909271284271283    0.2111740783205706   0.03586064322306479   \n",
       "4  0.0006313131313131313   0.07596645881657382  0.021979406974834498   \n",
       "\n",
       "                    hub             authority degrees_of_nodes club_labels  \n",
       "0   0.07141272875773573   0.07141272880870855               16      Mr. Hi  \n",
       "1  0.053427231205172614   0.05342723122870397                9      Mr. Hi  \n",
       "2   0.06371906453963268   0.06371906455587135               10      Mr. Hi  \n",
       "3   0.04242273710428976   0.04242273710611524                6      Mr. Hi  \n",
       "4   0.01526095969815266  0.015260959692251741                3      Mr. Hi  "
      ]
     },
     "execution_count": 33,
     "metadata": {},
     "output_type": "execute_result"
    }
   ],
   "source": [
    "df1.head()"
   ]
  },
  {
   "cell_type": "code",
   "execution_count": 34,
   "metadata": {},
   "outputs": [],
   "source": [
    "# converting target labels into onehot encoded form \n",
    "\n",
    "df1.club_labels = df1.club_labels.apply(lambda x : 0 if x==\"Mr. Hi\" else 1)"
   ]
  },
  {
   "cell_type": "code",
   "execution_count": 35,
   "metadata": {},
   "outputs": [],
   "source": [
    "# converting all the datatypes of columns into float\n",
    "\n",
    "df1 = df1.astype(float)\n"
   ]
  },
  {
   "cell_type": "code",
   "execution_count": 36,
   "metadata": {},
   "outputs": [
    {
     "data": {
      "text/html": [
       "<div>\n",
       "<style scoped>\n",
       "    .dataframe tbody tr th:only-of-type {\n",
       "        vertical-align: middle;\n",
       "    }\n",
       "\n",
       "    .dataframe tbody tr th {\n",
       "        vertical-align: top;\n",
       "    }\n",
       "\n",
       "    .dataframe thead th {\n",
       "        text-align: right;\n",
       "    }\n",
       "</style>\n",
       "<table border=\"1\" class=\"dataframe\">\n",
       "  <thead>\n",
       "    <tr style=\"text-align: right;\">\n",
       "      <th></th>\n",
       "      <th>clustering_coef</th>\n",
       "      <th>degree_centrality</th>\n",
       "      <th>closeness_centrality</th>\n",
       "      <th>betweenness_centrality</th>\n",
       "      <th>eigenvalue_centrality</th>\n",
       "      <th>pagerank</th>\n",
       "      <th>hub</th>\n",
       "      <th>authority</th>\n",
       "      <th>degrees_of_nodes</th>\n",
       "      <th>club_labels</th>\n",
       "    </tr>\n",
       "  </thead>\n",
       "  <tbody>\n",
       "    <tr>\n",
       "      <th>0</th>\n",
       "      <td>0.150000</td>\n",
       "      <td>0.484848</td>\n",
       "      <td>0.568966</td>\n",
       "      <td>0.437635</td>\n",
       "      <td>0.355483</td>\n",
       "      <td>0.097002</td>\n",
       "      <td>0.071413</td>\n",
       "      <td>0.071413</td>\n",
       "      <td>16.0</td>\n",
       "      <td>0.0</td>\n",
       "    </tr>\n",
       "    <tr>\n",
       "      <th>1</th>\n",
       "      <td>0.333333</td>\n",
       "      <td>0.272727</td>\n",
       "      <td>0.485294</td>\n",
       "      <td>0.053937</td>\n",
       "      <td>0.265954</td>\n",
       "      <td>0.052878</td>\n",
       "      <td>0.053427</td>\n",
       "      <td>0.053427</td>\n",
       "      <td>9.0</td>\n",
       "      <td>0.0</td>\n",
       "    </tr>\n",
       "    <tr>\n",
       "      <th>2</th>\n",
       "      <td>0.244444</td>\n",
       "      <td>0.303030</td>\n",
       "      <td>0.559322</td>\n",
       "      <td>0.143657</td>\n",
       "      <td>0.317189</td>\n",
       "      <td>0.057078</td>\n",
       "      <td>0.063719</td>\n",
       "      <td>0.063719</td>\n",
       "      <td>10.0</td>\n",
       "      <td>0.0</td>\n",
       "    </tr>\n",
       "    <tr>\n",
       "      <th>3</th>\n",
       "      <td>0.666667</td>\n",
       "      <td>0.181818</td>\n",
       "      <td>0.464789</td>\n",
       "      <td>0.011909</td>\n",
       "      <td>0.211174</td>\n",
       "      <td>0.035861</td>\n",
       "      <td>0.042423</td>\n",
       "      <td>0.042423</td>\n",
       "      <td>6.0</td>\n",
       "      <td>0.0</td>\n",
       "    </tr>\n",
       "    <tr>\n",
       "      <th>4</th>\n",
       "      <td>0.666667</td>\n",
       "      <td>0.090909</td>\n",
       "      <td>0.379310</td>\n",
       "      <td>0.000631</td>\n",
       "      <td>0.075966</td>\n",
       "      <td>0.021979</td>\n",
       "      <td>0.015261</td>\n",
       "      <td>0.015261</td>\n",
       "      <td>3.0</td>\n",
       "      <td>0.0</td>\n",
       "    </tr>\n",
       "  </tbody>\n",
       "</table>\n",
       "</div>"
      ],
      "text/plain": [
       "   clustering_coef  degree_centrality  closeness_centrality  \\\n",
       "0         0.150000           0.484848              0.568966   \n",
       "1         0.333333           0.272727              0.485294   \n",
       "2         0.244444           0.303030              0.559322   \n",
       "3         0.666667           0.181818              0.464789   \n",
       "4         0.666667           0.090909              0.379310   \n",
       "\n",
       "   betweenness_centrality  eigenvalue_centrality  pagerank       hub  \\\n",
       "0                0.437635               0.355483  0.097002  0.071413   \n",
       "1                0.053937               0.265954  0.052878  0.053427   \n",
       "2                0.143657               0.317189  0.057078  0.063719   \n",
       "3                0.011909               0.211174  0.035861  0.042423   \n",
       "4                0.000631               0.075966  0.021979  0.015261   \n",
       "\n",
       "   authority  degrees_of_nodes  club_labels  \n",
       "0   0.071413              16.0          0.0  \n",
       "1   0.053427               9.0          0.0  \n",
       "2   0.063719              10.0          0.0  \n",
       "3   0.042423               6.0          0.0  \n",
       "4   0.015261               3.0          0.0  "
      ]
     },
     "execution_count": 36,
     "metadata": {},
     "output_type": "execute_result"
    }
   ],
   "source": [
    "# final dataframe\n",
    "\n",
    "df1.head()"
   ]
  },
  {
   "cell_type": "code",
   "execution_count": 37,
   "metadata": {},
   "outputs": [
    {
     "data": {
      "text/plain": [
       "(34, 10)"
      ]
     },
     "execution_count": 37,
     "metadata": {},
     "output_type": "execute_result"
    }
   ],
   "source": [
    "df1.shape"
   ]
  },
  {
   "cell_type": "markdown",
   "metadata": {},
   "source": [
    "### Importing Machine learning algorithms for classification \n",
    "\n",
    "We are going to use `logistic regression` for classification using `sklearn` library."
   ]
  },
  {
   "cell_type": "code",
   "execution_count": 38,
   "metadata": {},
   "outputs": [],
   "source": [
    "# Importing libraries for classification\n",
    "\n",
    "import sklearn\n",
    "from sklearn.linear_model import LogisticRegression\n",
    "\n",
    "from sklearn.model_selection import train_test_split\n",
    "\n",
    "from sklearn.metrics import classification_report, confusion_matrix,accuracy_score"
   ]
  },
  {
   "cell_type": "code",
   "execution_count": 39,
   "metadata": {},
   "outputs": [],
   "source": [
    "# deviding data into train and test\n",
    "\n",
    "X = df1.drop(columns=['club_labels'])\n",
    "y = df1.club_labels\n",
    "\n",
    "X_train, X_test, y_train, y_test = train_test_split(X, y, test_size=0.20, random_state=42)\n",
    "\n",
    "# defining model\n",
    "\n",
    "# all parameters not specified are set to their defaults\n",
    "logisticRegr = LogisticRegression()\n",
    "\n",
    "# fitting the model\n",
    "logisticRegr.fit(X_train, y_train)\n",
    "\n",
    "# making predictions\n",
    "y_pred = logisticRegr.predict(X_test)"
   ]
  },
  {
   "cell_type": "code",
   "execution_count": 40,
   "metadata": {},
   "outputs": [
    {
     "name": "stdout",
     "output_type": "stream",
     "text": [
      "              precision    recall  f1-score   support\n",
      "\n",
      "         0.0       0.50      0.67      0.57         3\n",
      "         1.0       0.67      0.50      0.57         4\n",
      "\n",
      "    accuracy                           0.57         7\n",
      "   macro avg       0.58      0.58      0.57         7\n",
      "weighted avg       0.60      0.57      0.57         7\n",
      "\n"
     ]
    }
   ],
   "source": [
    "# Measuring model performance\n",
    "\n",
    "print(classification_report(y_test,y_pred))"
   ]
  },
  {
   "cell_type": "code",
   "execution_count": 41,
   "metadata": {},
   "outputs": [
    {
     "name": "stdout",
     "output_type": "stream",
     "text": [
      "[[2 1]\n",
      " [2 2]]\n",
      "------\n",
      "0.5714285714285714\n"
     ]
    }
   ],
   "source": [
    "print(confusion_matrix(y_test,y_pred))\n",
    "print(\"------\")\n",
    "print(accuracy_score(y_test,y_pred))"
   ]
  },
  {
   "cell_type": "code",
   "execution_count": 42,
   "metadata": {},
   "outputs": [
    {
     "data": {
      "text/plain": [
       "15    1.0\n",
       "19    0.0\n",
       "27    1.0\n",
       "26    1.0\n",
       "8     0.0\n",
       "24    1.0\n",
       "21    0.0\n",
       "Name: club_labels, dtype: float64"
      ]
     },
     "execution_count": 42,
     "metadata": {},
     "output_type": "execute_result"
    }
   ],
   "source": [
    "y_test"
   ]
  },
  {
   "cell_type": "code",
   "execution_count": 43,
   "metadata": {},
   "outputs": [
    {
     "data": {
      "text/plain": [
       "array([0., 1., 1., 0., 0., 1., 0.])"
      ]
     },
     "execution_count": 43,
     "metadata": {},
     "output_type": "execute_result"
    }
   ],
   "source": [
    "y_pred"
   ]
  },
  {
   "cell_type": "code",
   "execution_count": null,
   "metadata": {},
   "outputs": [],
   "source": []
  }
 ],
 "metadata": {
  "kernelspec": {
   "display_name": "Python 3.9.7 ('pytorchenv')",
   "language": "python",
   "name": "python3"
  },
  "language_info": {
   "codemirror_mode": {
    "name": "ipython",
    "version": 3
   },
   "file_extension": ".py",
   "mimetype": "text/x-python",
   "name": "python",
   "nbconvert_exporter": "python",
   "pygments_lexer": "ipython3",
   "version": "3.9.7"
  },
  "orig_nbformat": 4,
  "vscode": {
   "interpreter": {
    "hash": "b504f5870eb083b25ac0ccd73401bf891a86c84f0b0ce8357843d17974c5ef43"
   }
  }
 },
 "nbformat": 4,
 "nbformat_minor": 2
}
