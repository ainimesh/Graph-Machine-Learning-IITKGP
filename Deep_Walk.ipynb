{
 "cells": [
  {
   "cell_type": "markdown",
   "id": "d45a7711",
   "metadata": {},
   "source": [
    "# Implementation of Deep-Walk Tutorial\n",
    "\n",
    "\n",
    "In this tutorial we are going to learn about the implementation of Deep-Walk Algorithm from screatch.\n",
    "\n",
    "Following are the Requirements for this Implementation.\n",
    "\n",
    "1. Python 3.0 +\n",
    "2. Pytorch\n",
    "3. DGL (Deep Graph Library)"
   ]
  },
  {
   "cell_type": "markdown",
   "id": "3638dcff",
   "metadata": {},
   "source": [
    "# Implementation is going to Happen in following phases.\n",
    "\n",
    "1. Implementation from scratch\n",
    "\n",
    "2. Using Deep Graph Library\n",
    "\n",
    "3. Examples of Deep-Walk on Datasets"
   ]
  },
  {
   "cell_type": "markdown",
   "id": "d7c147be",
   "metadata": {},
   "source": [
    "# Phase-1\n",
    "\n",
    "From Scratch Implementation:"
   ]
  },
  {
   "cell_type": "code",
   "execution_count": 1,
   "id": "2310adc8",
   "metadata": {},
   "outputs": [
    {
     "name": "stderr",
     "output_type": "stream",
     "text": [
      "Using backend: pytorch\n"
     ]
    }
   ],
   "source": [
    "# Importing nessesary Libraries \n",
    "\n",
    "import numpy as np\n",
    "import torch\n",
    "import pandas as pd\n",
    "import dgl"
   ]
  },
  {
   "cell_type": "code",
   "execution_count": 2,
   "id": "15e5e684",
   "metadata": {},
   "outputs": [
    {
     "ename": "ImportError",
     "evalue": "cannot import name 'deepwalk' from 'dgl' (c:\\Users\\ANIMESH\\anaconda3\\envs\\pytorchenv\\lib\\site-packages\\dgl\\__init__.py)",
     "output_type": "error",
     "traceback": [
      "\u001b[1;31m---------------------------------------------------------------------------\u001b[0m",
      "\u001b[1;31mImportError\u001b[0m                               Traceback (most recent call last)",
      "\u001b[1;32m~\\AppData\\Local\\Temp/ipykernel_3936/4076944336.py\u001b[0m in \u001b[0;36m<module>\u001b[1;34m\u001b[0m\n\u001b[1;32m----> 1\u001b[1;33m \u001b[1;32mfrom\u001b[0m \u001b[0mdgl\u001b[0m \u001b[1;32mimport\u001b[0m \u001b[0mdeepwalk\u001b[0m\u001b[1;33m\u001b[0m\u001b[1;33m\u001b[0m\u001b[0m\n\u001b[0m",
      "\u001b[1;31mImportError\u001b[0m: cannot import name 'deepwalk' from 'dgl' (c:\\Users\\ANIMESH\\anaconda3\\envs\\pytorchenv\\lib\\site-packages\\dgl\\__init__.py)"
     ]
    }
   ],
   "source": [
    "\n"
   ]
  },
  {
   "cell_type": "code",
   "execution_count": null,
   "id": "7d32b1d1",
   "metadata": {},
   "outputs": [],
   "source": []
  }
 ],
 "metadata": {
  "interpreter": {
   "hash": "b504f5870eb083b25ac0ccd73401bf891a86c84f0b0ce8357843d17974c5ef43"
  },
  "kernelspec": {
   "display_name": "Python 3.9.7 ('pytorchenv')",
   "language": "python",
   "name": "python3"
  },
  "language_info": {
   "codemirror_mode": {
    "name": "ipython",
    "version": 3
   },
   "file_extension": ".py",
   "mimetype": "text/x-python",
   "name": "python",
   "nbconvert_exporter": "python",
   "pygments_lexer": "ipython3",
   "version": "3.9.7"
  }
 },
 "nbformat": 4,
 "nbformat_minor": 5
}
