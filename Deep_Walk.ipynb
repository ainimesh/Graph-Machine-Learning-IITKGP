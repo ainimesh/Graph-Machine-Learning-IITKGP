{
 "cells": [
  {
   "cell_type": "markdown",
   "id": "d45a7711",
   "metadata": {},
   "source": [
    "# Implementation of Deep-Walk Tutorial\n",
    "\n",
    "\n",
    "In this tutorial we are going to learn about the implementation of Deep-Walk Algorithm from screatch.\n",
    "\n",
    "Following are the Requirements for this Implementation.\n",
    "\n",
    "1. Python 3.0 +\n",
    "2. Pytorch\n",
    "3. DGL (Deep Graph Library)"
   ]
  },
  {
   "cell_type": "markdown",
   "id": "3638dcff",
   "metadata": {},
   "source": [
    "# Implementation is going to Happen in following phases.\n",
    "\n",
    "1. Implementation from scratch\n",
    "\n",
    "2. Using Deep Graph Library\n",
    "\n",
    "3. Examples of Deep-Walk on Datasets"
   ]
  },
  {
   "cell_type": "markdown",
   "id": "d7c147be",
   "metadata": {},
   "source": [
    "# Phase-1\n",
    "\n",
    "From Scratch Implementation using Python:"
   ]
  },
  {
   "cell_type": "code",
   "execution_count": 1,
   "id": "2310adc8",
   "metadata": {},
   "outputs": [],
   "source": [
    "# Importing nessesary Libraries \n",
    "\n",
    "import networkx as nx # to visulaize and load graph data\n",
    "import random\n",
    "import numpy as np\n",
    "from typing import List\n",
    "from tqdm import tqdm\n",
    "from gensim.models.word2vec import Word2Vec\n"
   ]
  },
  {
   "cell_type": "markdown",
   "id": "b10924a6",
   "metadata": {},
   "source": [
    "# This is Just temporary Code File .. ihavent done any editing yet not added text into that"
   ]
  },
  {
   "cell_type": "markdown",
   "id": "8c4569df",
   "metadata": {},
   "source": [
    "I will be following function structure and pusing changes soon\n"
   ]
  },
  {
   "cell_type": "markdown",
   "id": "467f25d1",
   "metadata": {},
   "source": [
    "# Creating Deep-Walk model class"
   ]
  },
  {
   "cell_type": "code",
   "execution_count": 2,
   "id": "7d32b1d1",
   "metadata": {},
   "outputs": [],
   "source": [
    "class DeepWalk:\n",
    "    def __init__(self, window_size: int, embedding_size: int, walk_length: int, walks_per_node: int):\n",
    "        \"\"\"\n",
    "        :param window_size: window size for the Word2Vec model\n",
    "        :param embedding_size: size of the final embedding\n",
    "        :param walk_length: length of the walk\n",
    "        :param walks_per_node: number of walks per node\n",
    "        \"\"\"\n",
    "        self.window_size = window_size\n",
    "        self.embedding_size = embedding_size\n",
    "        self.walk_length = walk_length\n",
    "        self.walk_per_node = walks_per_node\n",
    "\n",
    "    def random_walk(self, g: nx.Graph, start: str, use_probabilities: bool = False) -> List[str]:\n",
    "        \"\"\"\n",
    "        Generate a random walk starting on start\n",
    "        :param g: Graph\n",
    "        :param start: starting node for the random walk\n",
    "        :param use_probabilities: if True take into account the weights assigned to each edge to select the next candidate\n",
    "        :return:\n",
    "        \"\"\"\n",
    "        walk = [start]\n",
    "        for i in range(self.walk_length):\n",
    "            neighbours = g.neighbors(walk[i])\n",
    "            neighs = list(neighbours)\n",
    "            if use_probabilities:\n",
    "                probabilities = [g.get_edge_data(walk[i], neig)[\"weight\"] for neig in neighs]\n",
    "                sum_probabilities = sum(probabilities)\n",
    "                probabilities = list(map(lambda t: t / sum_probabilities, probabilities))\n",
    "                p = np.random.choice(neighs, p=probabilities)\n",
    "            else:\n",
    "                p = random.choice(neighs)\n",
    "            walk.append(p)\n",
    "        return walk\n",
    "\n",
    "    def get_walks(self, g: nx.Graph, use_probabilities: bool = False) -> List[List[str]]:\n",
    "        \"\"\"\n",
    "        Generate all the random walks\n",
    "        :param g: Graph\n",
    "        :param use_probabilities:\n",
    "        :return:\n",
    "        \"\"\"\n",
    "        random_walks = []\n",
    "        for _ in range(self.walk_per_node):\n",
    "            random_nodes = list(g.nodes)\n",
    "            random.shuffle(random_nodes)\n",
    "            for node in tqdm(random_nodes):\n",
    "                random_walks.append(self.random_walk(g=g, start=node, use_probabilities=use_probabilities))\n",
    "        return random_walks\n",
    "\n",
    "    def compute_embeddings(self, walks: List[List[str]]):\n",
    "        \"\"\"\n",
    "        Compute the node embeddings for the generated walks\n",
    "        :param walks: List of walks\n",
    "        :return:\n",
    "        \"\"\"\n",
    "        model = Word2Vec(sentences=walks, window=self.window_size, vector_size=self.embedding_size)\n",
    "        return model.wv"
   ]
  },
  {
   "cell_type": "code",
   "execution_count": 3,
   "id": "2e91e366",
   "metadata": {},
   "outputs": [],
   "source": [
    "G = nx.karate_club_graph()"
   ]
  },
  {
   "cell_type": "code",
   "execution_count": 5,
   "id": "b261f9c0",
   "metadata": {},
   "outputs": [
    {
     "data": {
      "text/plain": [
       "NodeView((0, 1, 2, 3, 4, 5, 6, 7, 8, 9, 10, 11, 12, 13, 14, 15, 16, 17, 18, 19, 20, 21, 22, 23, 24, 25, 26, 27, 28, 29, 30, 31, 32, 33))"
      ]
     },
     "execution_count": 5,
     "metadata": {},
     "output_type": "execute_result"
    }
   ],
   "source": [
    "G.nodes"
   ]
  },
  {
   "cell_type": "code",
   "execution_count": 6,
   "id": "3323d424",
   "metadata": {},
   "outputs": [
    {
     "data": {
      "text/plain": [
       "EdgeView([(0, 1), (0, 2), (0, 3), (0, 4), (0, 5), (0, 6), (0, 7), (0, 8), (0, 10), (0, 11), (0, 12), (0, 13), (0, 17), (0, 19), (0, 21), (0, 31), (1, 2), (1, 3), (1, 7), (1, 13), (1, 17), (1, 19), (1, 21), (1, 30), (2, 3), (2, 7), (2, 8), (2, 9), (2, 13), (2, 27), (2, 28), (2, 32), (3, 7), (3, 12), (3, 13), (4, 6), (4, 10), (5, 6), (5, 10), (5, 16), (6, 16), (8, 30), (8, 32), (8, 33), (9, 33), (13, 33), (14, 32), (14, 33), (15, 32), (15, 33), (18, 32), (18, 33), (19, 33), (20, 32), (20, 33), (22, 32), (22, 33), (23, 25), (23, 27), (23, 29), (23, 32), (23, 33), (24, 25), (24, 27), (24, 31), (25, 31), (26, 29), (26, 33), (27, 33), (28, 31), (28, 33), (29, 32), (29, 33), (30, 32), (30, 33), (31, 32), (31, 33), (32, 33)])"
      ]
     },
     "execution_count": 6,
     "metadata": {},
     "output_type": "execute_result"
    }
   ],
   "source": [
    "G.edges"
   ]
  },
  {
   "cell_type": "code",
   "execution_count": 7,
   "id": "0cd2a2c6",
   "metadata": {},
   "outputs": [],
   "source": [
    "deep_walk_emb = DeepWalk(5,20,10,2)"
   ]
  },
  {
   "cell_type": "code",
   "execution_count": 8,
   "id": "5528296d",
   "metadata": {},
   "outputs": [
    {
     "name": "stderr",
     "output_type": "stream",
     "text": [
      "100%|██████████| 34/34 [00:00<00:00, 34116.35it/s]\n",
      "100%|██████████| 34/34 [00:00<00:00, 17066.34it/s]\n"
     ]
    }
   ],
   "source": [
    "walks = deep_walk_emb.get_walks(G)"
   ]
  },
  {
   "cell_type": "code",
   "execution_count": 9,
   "id": "7563e8ca",
   "metadata": {},
   "outputs": [],
   "source": [
    "emb = deep_walk_emb.compute_embeddings(walks)"
   ]
  },
  {
   "cell_type": "code",
   "execution_count": 14,
   "id": "3822f344",
   "metadata": {},
   "outputs": [
    {
     "data": {
      "text/plain": [
       "34"
      ]
     },
     "execution_count": 14,
     "metadata": {},
     "output_type": "execute_result"
    }
   ],
   "source": [
    "len(emb)"
   ]
  },
  {
   "cell_type": "code",
   "execution_count": 17,
   "id": "1bf8158f",
   "metadata": {},
   "outputs": [
    {
     "data": {
      "text/plain": [
       "array([ 0.03112174,  0.0248144 ,  0.04046149,  0.00347368,  0.03297189,\n",
       "       -0.01910742,  0.0028322 ,  0.03734919, -0.04480325, -0.02202702,\n",
       "       -0.03131172, -0.00766304,  0.04807733, -0.03980104, -0.00698867,\n",
       "       -0.01050909,  0.04778976, -0.03033342, -0.0053213 , -0.02617892],\n",
       "      dtype=float32)"
      ]
     },
     "execution_count": 17,
     "metadata": {},
     "output_type": "execute_result"
    }
   ],
   "source": [
    "emb[0]\n"
   ]
  },
  {
   "cell_type": "code",
   "execution_count": 18,
   "id": "ee9d530c",
   "metadata": {},
   "outputs": [
    {
     "data": {
      "text/plain": [
       "array([-0.01182669,  0.00085064, -0.01528985, -0.03921663, -0.00713159,\n",
       "        0.01069064,  0.00111983,  0.03442913, -0.01967189,  0.00910139,\n",
       "        0.03211999,  0.04008023, -0.00738268, -0.04923522,  0.02520437,\n",
       "        0.00204629,  0.0426208 , -0.00512349, -0.01755557, -0.04554198],\n",
       "      dtype=float32)"
      ]
     },
     "execution_count": 18,
     "metadata": {},
     "output_type": "execute_result"
    }
   ],
   "source": [
    "emb[1]"
   ]
  },
  {
   "cell_type": "code",
   "execution_count": null,
   "id": "d3797eba",
   "metadata": {},
   "outputs": [],
   "source": []
  }
 ],
 "metadata": {
  "interpreter": {
   "hash": "b504f5870eb083b25ac0ccd73401bf891a86c84f0b0ce8357843d17974c5ef43"
  },
  "kernelspec": {
   "display_name": "Python 3.9.7 ('pytorchenv')",
   "language": "python",
   "name": "python3"
  },
  "language_info": {
   "codemirror_mode": {
    "name": "ipython",
    "version": 3
   },
   "file_extension": ".py",
   "mimetype": "text/x-python",
   "name": "python",
   "nbconvert_exporter": "python",
   "pygments_lexer": "ipython3",
   "version": "3.9.7"
  }
 },
 "nbformat": 4,
 "nbformat_minor": 5
}
