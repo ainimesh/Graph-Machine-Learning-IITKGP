{
 "cells": [
  {
   "cell_type": "markdown",
   "metadata": {},
   "source": [
    "# Tutorial on Node2vec"
   ]
  },
  {
   "cell_type": "markdown",
   "metadata": {},
   "source": [
    "# Implementation of Node2vec Tutorial\n",
    "\n",
    "\n",
    "In this tutorial we are going to learn about the implementation of Node2vec Algorithm from screatch.\n",
    "\n",
    "Following are the Requirements for this Implementation.\n",
    "\n",
    "1. Python 3.0 +\n",
    "2. Pytorch\n",
    "3. Karateclub\n",
    "4. DGL (Deep Graph Library)\n",
    "5. gensim (word2vec)"
   ]
  },
  {
   "cell_type": "markdown",
   "metadata": {},
   "source": [
    "## Node2vec:\n",
    "\n",
    "### Brief Explanation:\n",
    "\n",
    "The main difference between node2vec and deepwalk is in doing random walks.\n",
    "\n",
    "- Node2vec performs ```biased Random Walks``` in order to efficiently explore diverse neighborhoods."
   ]
  },
  {
   "cell_type": "markdown",
   "metadata": {},
   "source": [
    "# Implementation is going to Happen in following phases.\n",
    "\n",
    "1. Implementation from scratch\n",
    "\n",
    "2. Library Implementation\n",
    "\n",
    "3. Examples of Deep-Walk on Datasets"
   ]
  },
  {
   "cell_type": "markdown",
   "metadata": {},
   "source": [
    "### Phase-1: Implementation from scratch"
   ]
  },
  {
   "cell_type": "code",
   "execution_count": 1,
   "metadata": {},
   "outputs": [],
   "source": [
    "# Importing nessesary Libraries \n",
    "\n",
    "import networkx as nx # to visulaize and load graph data\n",
    "import random\n",
    "import numpy as np\n",
    "from typing import List\n",
    "from tqdm import tqdm\n",
    "from gensim.models.word2vec import Word2Vec # for implimenting Skip-Gram Model\n",
    "\n",
    "import matplotlib.pyplot as plt\n",
    "\n",
    "from IPython.display import display\n",
    "from PIL import Image"
   ]
  },
  {
   "cell_type": "code",
   "execution_count": null,
   "metadata": {},
   "outputs": [],
   "source": []
  }
 ],
 "metadata": {
  "interpreter": {
   "hash": "b504f5870eb083b25ac0ccd73401bf891a86c84f0b0ce8357843d17974c5ef43"
  },
  "kernelspec": {
   "display_name": "Python 3.9.7 ('pytorchenv')",
   "language": "python",
   "name": "python3"
  },
  "language_info": {
   "codemirror_mode": {
    "name": "ipython",
    "version": 3
   },
   "file_extension": ".py",
   "mimetype": "text/x-python",
   "name": "python",
   "nbconvert_exporter": "python",
   "pygments_lexer": "ipython3",
   "version": "3.9.7"
  },
  "orig_nbformat": 4
 },
 "nbformat": 4,
 "nbformat_minor": 2
}
